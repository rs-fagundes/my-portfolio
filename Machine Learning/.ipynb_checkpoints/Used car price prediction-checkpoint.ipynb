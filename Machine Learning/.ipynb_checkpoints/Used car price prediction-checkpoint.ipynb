{
 "cells": [
  {
   "cell_type": "markdown",
   "id": "9386fd60-45a7-48bc-8110-37947e2a363d",
   "metadata": {},
   "source": [
    "| Step                                   | Description                                                                              |\n",
    "|----------------------------------------|------------------------------------------------------------------------------------------|\n",
    "| Data Loading                           | Import the data into a DataFrame.                                                        |\n",
    "| Exploratory Data Analysis (EDA)        | Visualize and understand the distribution, statistics, and relationships among variables.|\n",
    "| Data Cleaning & Preprocessing          | Handle missing values, format dates, correct inconsistencies, and remove outliers.         |\n",
    "| Feature Engineering                    | Create or transform variables (e.g., calculate car age, encode categorical features).      |\n",
    "| Data Splitting                         | Split the data into training and testing sets.                                           |\n",
    "| Baseline Model Building                | Build a simple model (such as linear regression) to set a baseline performance.            |\n",
    "| Model Evaluation                       | Assess model performance using metrics (e.g., MAE, RMSE, R²).                              |\n",
    "| Advanced Modeling                      | Experiment with more complex models (e.g., Random Forest, Gradient Boosting).              |\n",
    "| Hyperparameter Tuning & Validation     | Optimize model parameters using techniques like Grid Search or Randomized Search with CV.   |\n",
    "| Feature Importance & Model Interpretation | Analyze which features influence predictions the most and interpret the results.          |\n",
    "| Conclusions & Next Steps               | Summarize findings, discuss limitations, and outline improvements for future work.         |\n"
   ]
  },
  {
   "cell_type": "code",
   "execution_count": 1,
   "id": "ce25c682-4102-41c7-abdb-c776b39c14a9",
   "metadata": {},
   "outputs": [],
   "source": [
    "import pandas as pd\n",
    "import seaborn as sns\n",
    "import numpy as np\n",
    "import matplotlib.pyplot as plt\n",
    "from datetime import datetime\n",
    "from scipy import stats"
   ]
  },
  {
   "cell_type": "code",
   "execution_count": 2,
   "id": "93f982d4-5510-47d7-aec6-4f06a017ab99",
   "metadata": {},
   "outputs": [],
   "source": [
    "pd.set_option('display.max_columns', None)"
   ]
  },
  {
   "cell_type": "markdown",
   "id": "47d3f250-ccfa-43d5-ad32-bbdc47b03e91",
   "metadata": {},
   "source": [
    "### Data Loading"
   ]
  },
  {
   "cell_type": "code",
   "execution_count": 3,
   "id": "cfa4237f-84a0-4adc-9339-7bbbf8f70e3e",
   "metadata": {},
   "outputs": [],
   "source": [
    "df = pd.read_csv('csv/autos.csv')"
   ]
  },
  {
   "cell_type": "markdown",
   "id": "33542f84-3d96-48ee-885f-ce46a690f41d",
   "metadata": {},
   "source": [
    "### Exploratory Data Analysis (EDA)"
   ]
  },
  {
   "cell_type": "code",
   "execution_count": 4,
   "id": "8ad8dcd0-d676-4e6b-a849-f8c961628d69",
   "metadata": {},
   "outputs": [
    {
     "data": {
      "text/html": [
       "<div>\n",
       "<style scoped>\n",
       "    .dataframe tbody tr th:only-of-type {\n",
       "        vertical-align: middle;\n",
       "    }\n",
       "\n",
       "    .dataframe tbody tr th {\n",
       "        vertical-align: top;\n",
       "    }\n",
       "\n",
       "    .dataframe thead th {\n",
       "        text-align: right;\n",
       "    }\n",
       "</style>\n",
       "<table border=\"1\" class=\"dataframe\">\n",
       "  <thead>\n",
       "    <tr style=\"text-align: right;\">\n",
       "      <th></th>\n",
       "      <th>index</th>\n",
       "      <th>dateCrawled</th>\n",
       "      <th>name</th>\n",
       "      <th>seller</th>\n",
       "      <th>offerType</th>\n",
       "      <th>price</th>\n",
       "      <th>abtest</th>\n",
       "      <th>vehicleType</th>\n",
       "      <th>yearOfRegistration</th>\n",
       "      <th>gearbox</th>\n",
       "      <th>powerPS</th>\n",
       "      <th>model</th>\n",
       "      <th>kilometer</th>\n",
       "      <th>monthOfRegistration</th>\n",
       "      <th>fuelType</th>\n",
       "      <th>brand</th>\n",
       "      <th>notRepairedDamage</th>\n",
       "      <th>dateCreated</th>\n",
       "      <th>nrOfPictures</th>\n",
       "      <th>postalCode</th>\n",
       "      <th>lastSeen</th>\n",
       "    </tr>\n",
       "  </thead>\n",
       "  <tbody>\n",
       "    <tr>\n",
       "      <th>0</th>\n",
       "      <td>0</td>\n",
       "      <td>2016-03-24 11:52:17</td>\n",
       "      <td>Golf_3_1.6</td>\n",
       "      <td>privat</td>\n",
       "      <td>Angebot</td>\n",
       "      <td>480</td>\n",
       "      <td>test</td>\n",
       "      <td>NaN</td>\n",
       "      <td>1993</td>\n",
       "      <td>manuell</td>\n",
       "      <td>0</td>\n",
       "      <td>golf</td>\n",
       "      <td>150000</td>\n",
       "      <td>0</td>\n",
       "      <td>benzin</td>\n",
       "      <td>volkswagen</td>\n",
       "      <td>NaN</td>\n",
       "      <td>2016-03-24 00:00:00</td>\n",
       "      <td>0</td>\n",
       "      <td>70435</td>\n",
       "      <td>2016-04-07 03:16:57</td>\n",
       "    </tr>\n",
       "    <tr>\n",
       "      <th>1</th>\n",
       "      <td>1</td>\n",
       "      <td>2016-03-24 10:58:45</td>\n",
       "      <td>A5_Sportback_2.7_Tdi</td>\n",
       "      <td>privat</td>\n",
       "      <td>Angebot</td>\n",
       "      <td>18300</td>\n",
       "      <td>test</td>\n",
       "      <td>coupe</td>\n",
       "      <td>2011</td>\n",
       "      <td>manuell</td>\n",
       "      <td>190</td>\n",
       "      <td>NaN</td>\n",
       "      <td>125000</td>\n",
       "      <td>5</td>\n",
       "      <td>diesel</td>\n",
       "      <td>audi</td>\n",
       "      <td>ja</td>\n",
       "      <td>2016-03-24 00:00:00</td>\n",
       "      <td>0</td>\n",
       "      <td>66954</td>\n",
       "      <td>2016-04-07 01:46:50</td>\n",
       "    </tr>\n",
       "    <tr>\n",
       "      <th>2</th>\n",
       "      <td>2</td>\n",
       "      <td>2016-03-14 12:52:21</td>\n",
       "      <td>Jeep_Grand_Cherokee_\"Overland\"</td>\n",
       "      <td>privat</td>\n",
       "      <td>Angebot</td>\n",
       "      <td>9800</td>\n",
       "      <td>test</td>\n",
       "      <td>suv</td>\n",
       "      <td>2004</td>\n",
       "      <td>automatik</td>\n",
       "      <td>163</td>\n",
       "      <td>grand</td>\n",
       "      <td>125000</td>\n",
       "      <td>8</td>\n",
       "      <td>diesel</td>\n",
       "      <td>jeep</td>\n",
       "      <td>NaN</td>\n",
       "      <td>2016-03-14 00:00:00</td>\n",
       "      <td>0</td>\n",
       "      <td>90480</td>\n",
       "      <td>2016-04-05 12:47:46</td>\n",
       "    </tr>\n",
       "    <tr>\n",
       "      <th>3</th>\n",
       "      <td>3</td>\n",
       "      <td>2016-03-17 16:54:04</td>\n",
       "      <td>GOLF_4_1_4__3TÜRER</td>\n",
       "      <td>privat</td>\n",
       "      <td>Angebot</td>\n",
       "      <td>1500</td>\n",
       "      <td>test</td>\n",
       "      <td>kleinwagen</td>\n",
       "      <td>2001</td>\n",
       "      <td>manuell</td>\n",
       "      <td>75</td>\n",
       "      <td>golf</td>\n",
       "      <td>150000</td>\n",
       "      <td>6</td>\n",
       "      <td>benzin</td>\n",
       "      <td>volkswagen</td>\n",
       "      <td>nein</td>\n",
       "      <td>2016-03-17 00:00:00</td>\n",
       "      <td>0</td>\n",
       "      <td>91074</td>\n",
       "      <td>2016-03-17 17:40:17</td>\n",
       "    </tr>\n",
       "    <tr>\n",
       "      <th>4</th>\n",
       "      <td>4</td>\n",
       "      <td>2016-03-31 17:25:20</td>\n",
       "      <td>Skoda_Fabia_1.4_TDI_PD_Classic</td>\n",
       "      <td>privat</td>\n",
       "      <td>Angebot</td>\n",
       "      <td>3600</td>\n",
       "      <td>test</td>\n",
       "      <td>kleinwagen</td>\n",
       "      <td>2008</td>\n",
       "      <td>manuell</td>\n",
       "      <td>69</td>\n",
       "      <td>fabia</td>\n",
       "      <td>90000</td>\n",
       "      <td>7</td>\n",
       "      <td>diesel</td>\n",
       "      <td>skoda</td>\n",
       "      <td>nein</td>\n",
       "      <td>2016-03-31 00:00:00</td>\n",
       "      <td>0</td>\n",
       "      <td>60437</td>\n",
       "      <td>2016-04-06 10:17:21</td>\n",
       "    </tr>\n",
       "  </tbody>\n",
       "</table>\n",
       "</div>"
      ],
      "text/plain": [
       "   index          dateCrawled                            name  seller  \\\n",
       "0      0  2016-03-24 11:52:17                      Golf_3_1.6  privat   \n",
       "1      1  2016-03-24 10:58:45            A5_Sportback_2.7_Tdi  privat   \n",
       "2      2  2016-03-14 12:52:21  Jeep_Grand_Cherokee_\"Overland\"  privat   \n",
       "3      3  2016-03-17 16:54:04              GOLF_4_1_4__3TÜRER  privat   \n",
       "4      4  2016-03-31 17:25:20  Skoda_Fabia_1.4_TDI_PD_Classic  privat   \n",
       "\n",
       "  offerType  price abtest vehicleType  yearOfRegistration    gearbox  powerPS  \\\n",
       "0   Angebot    480   test         NaN                1993    manuell        0   \n",
       "1   Angebot  18300   test       coupe                2011    manuell      190   \n",
       "2   Angebot   9800   test         suv                2004  automatik      163   \n",
       "3   Angebot   1500   test  kleinwagen                2001    manuell       75   \n",
       "4   Angebot   3600   test  kleinwagen                2008    manuell       69   \n",
       "\n",
       "   model  kilometer  monthOfRegistration fuelType       brand  \\\n",
       "0   golf     150000                    0   benzin  volkswagen   \n",
       "1    NaN     125000                    5   diesel        audi   \n",
       "2  grand     125000                    8   diesel        jeep   \n",
       "3   golf     150000                    6   benzin  volkswagen   \n",
       "4  fabia      90000                    7   diesel       skoda   \n",
       "\n",
       "  notRepairedDamage          dateCreated  nrOfPictures  postalCode  \\\n",
       "0               NaN  2016-03-24 00:00:00             0       70435   \n",
       "1                ja  2016-03-24 00:00:00             0       66954   \n",
       "2               NaN  2016-03-14 00:00:00             0       90480   \n",
       "3              nein  2016-03-17 00:00:00             0       91074   \n",
       "4              nein  2016-03-31 00:00:00             0       60437   \n",
       "\n",
       "              lastSeen  \n",
       "0  2016-04-07 03:16:57  \n",
       "1  2016-04-07 01:46:50  \n",
       "2  2016-04-05 12:47:46  \n",
       "3  2016-03-17 17:40:17  \n",
       "4  2016-04-06 10:17:21  "
      ]
     },
     "execution_count": 4,
     "metadata": {},
     "output_type": "execute_result"
    }
   ],
   "source": [
    "df.head()"
   ]
  },
  {
   "cell_type": "code",
   "execution_count": 5,
   "id": "ed4a9576-8e09-4ef1-81fb-128c9ea1fe5f",
   "metadata": {},
   "outputs": [
    {
     "name": "stdout",
     "output_type": "stream",
     "text": [
      "<class 'pandas.core.frame.DataFrame'>\n",
      "RangeIndex: 371528 entries, 0 to 371527\n",
      "Data columns (total 21 columns):\n",
      " #   Column               Non-Null Count   Dtype \n",
      "---  ------               --------------   ----- \n",
      " 0   index                371528 non-null  int64 \n",
      " 1   dateCrawled          371528 non-null  object\n",
      " 2   name                 371528 non-null  object\n",
      " 3   seller               371528 non-null  object\n",
      " 4   offerType            371528 non-null  object\n",
      " 5   price                371528 non-null  int64 \n",
      " 6   abtest               371528 non-null  object\n",
      " 7   vehicleType          333659 non-null  object\n",
      " 8   yearOfRegistration   371528 non-null  int64 \n",
      " 9   gearbox              351319 non-null  object\n",
      " 10  powerPS              371528 non-null  int64 \n",
      " 11  model                351044 non-null  object\n",
      " 12  kilometer            371528 non-null  int64 \n",
      " 13  monthOfRegistration  371528 non-null  int64 \n",
      " 14  fuelType             338142 non-null  object\n",
      " 15  brand                371528 non-null  object\n",
      " 16  notRepairedDamage    299468 non-null  object\n",
      " 17  dateCreated          371528 non-null  object\n",
      " 18  nrOfPictures         371528 non-null  int64 \n",
      " 19  postalCode           371528 non-null  int64 \n",
      " 20  lastSeen             371528 non-null  object\n",
      "dtypes: int64(8), object(13)\n",
      "memory usage: 59.5+ MB\n"
     ]
    }
   ],
   "source": [
    "df.info()"
   ]
  },
  {
   "cell_type": "code",
   "execution_count": 6,
   "id": "67f6acae-8a1c-4756-8ecc-e124c22e3176",
   "metadata": {},
   "outputs": [
    {
     "data": {
      "text/plain": [
       "index                      0\n",
       "dateCrawled                0\n",
       "name                       0\n",
       "seller                     0\n",
       "offerType                  0\n",
       "price                      0\n",
       "abtest                     0\n",
       "vehicleType            37869\n",
       "yearOfRegistration         0\n",
       "gearbox                20209\n",
       "powerPS                    0\n",
       "model                  20484\n",
       "kilometer                  0\n",
       "monthOfRegistration        0\n",
       "fuelType               33386\n",
       "brand                      0\n",
       "notRepairedDamage      72060\n",
       "dateCreated                0\n",
       "nrOfPictures               0\n",
       "postalCode                 0\n",
       "lastSeen                   0\n",
       "dtype: int64"
      ]
     },
     "execution_count": 6,
     "metadata": {},
     "output_type": "execute_result"
    }
   ],
   "source": [
    "df.isna().sum()"
   ]
  },
  {
   "cell_type": "code",
   "execution_count": 7,
   "id": "63440829-4388-4904-9831-45b5d468abf8",
   "metadata": {},
   "outputs": [
    {
     "data": {
      "text/html": [
       "<div>\n",
       "<style scoped>\n",
       "    .dataframe tbody tr th:only-of-type {\n",
       "        vertical-align: middle;\n",
       "    }\n",
       "\n",
       "    .dataframe tbody tr th {\n",
       "        vertical-align: top;\n",
       "    }\n",
       "\n",
       "    .dataframe thead th {\n",
       "        text-align: right;\n",
       "    }\n",
       "</style>\n",
       "<table border=\"1\" class=\"dataframe\">\n",
       "  <thead>\n",
       "    <tr style=\"text-align: right;\">\n",
       "      <th></th>\n",
       "      <th>index</th>\n",
       "      <th>price</th>\n",
       "      <th>yearOfRegistration</th>\n",
       "      <th>powerPS</th>\n",
       "      <th>kilometer</th>\n",
       "      <th>monthOfRegistration</th>\n",
       "      <th>nrOfPictures</th>\n",
       "      <th>postalCode</th>\n",
       "    </tr>\n",
       "  </thead>\n",
       "  <tbody>\n",
       "    <tr>\n",
       "      <th>count</th>\n",
       "      <td>371528.000000</td>\n",
       "      <td>3.715280e+05</td>\n",
       "      <td>371528.000000</td>\n",
       "      <td>371528.000000</td>\n",
       "      <td>371528.000000</td>\n",
       "      <td>371528.000000</td>\n",
       "      <td>371528.0</td>\n",
       "      <td>371528.00000</td>\n",
       "    </tr>\n",
       "    <tr>\n",
       "      <th>mean</th>\n",
       "      <td>185763.500000</td>\n",
       "      <td>1.729514e+04</td>\n",
       "      <td>2004.577997</td>\n",
       "      <td>115.549477</td>\n",
       "      <td>125618.688228</td>\n",
       "      <td>5.734445</td>\n",
       "      <td>0.0</td>\n",
       "      <td>50820.66764</td>\n",
       "    </tr>\n",
       "    <tr>\n",
       "      <th>std</th>\n",
       "      <td>107251.039743</td>\n",
       "      <td>3.587954e+06</td>\n",
       "      <td>92.866598</td>\n",
       "      <td>192.139578</td>\n",
       "      <td>40112.337051</td>\n",
       "      <td>3.712412</td>\n",
       "      <td>0.0</td>\n",
       "      <td>25799.08247</td>\n",
       "    </tr>\n",
       "    <tr>\n",
       "      <th>min</th>\n",
       "      <td>0.000000</td>\n",
       "      <td>0.000000e+00</td>\n",
       "      <td>1000.000000</td>\n",
       "      <td>0.000000</td>\n",
       "      <td>5000.000000</td>\n",
       "      <td>0.000000</td>\n",
       "      <td>0.0</td>\n",
       "      <td>1067.00000</td>\n",
       "    </tr>\n",
       "    <tr>\n",
       "      <th>25%</th>\n",
       "      <td>92881.750000</td>\n",
       "      <td>1.150000e+03</td>\n",
       "      <td>1999.000000</td>\n",
       "      <td>70.000000</td>\n",
       "      <td>125000.000000</td>\n",
       "      <td>3.000000</td>\n",
       "      <td>0.0</td>\n",
       "      <td>30459.00000</td>\n",
       "    </tr>\n",
       "    <tr>\n",
       "      <th>50%</th>\n",
       "      <td>185763.500000</td>\n",
       "      <td>2.950000e+03</td>\n",
       "      <td>2003.000000</td>\n",
       "      <td>105.000000</td>\n",
       "      <td>150000.000000</td>\n",
       "      <td>6.000000</td>\n",
       "      <td>0.0</td>\n",
       "      <td>49610.00000</td>\n",
       "    </tr>\n",
       "    <tr>\n",
       "      <th>75%</th>\n",
       "      <td>278645.250000</td>\n",
       "      <td>7.200000e+03</td>\n",
       "      <td>2008.000000</td>\n",
       "      <td>150.000000</td>\n",
       "      <td>150000.000000</td>\n",
       "      <td>9.000000</td>\n",
       "      <td>0.0</td>\n",
       "      <td>71546.00000</td>\n",
       "    </tr>\n",
       "    <tr>\n",
       "      <th>max</th>\n",
       "      <td>371527.000000</td>\n",
       "      <td>2.147484e+09</td>\n",
       "      <td>9999.000000</td>\n",
       "      <td>20000.000000</td>\n",
       "      <td>150000.000000</td>\n",
       "      <td>12.000000</td>\n",
       "      <td>0.0</td>\n",
       "      <td>99998.00000</td>\n",
       "    </tr>\n",
       "  </tbody>\n",
       "</table>\n",
       "</div>"
      ],
      "text/plain": [
       "               index         price  yearOfRegistration        powerPS  \\\n",
       "count  371528.000000  3.715280e+05       371528.000000  371528.000000   \n",
       "mean   185763.500000  1.729514e+04         2004.577997     115.549477   \n",
       "std    107251.039743  3.587954e+06           92.866598     192.139578   \n",
       "min         0.000000  0.000000e+00         1000.000000       0.000000   \n",
       "25%     92881.750000  1.150000e+03         1999.000000      70.000000   \n",
       "50%    185763.500000  2.950000e+03         2003.000000     105.000000   \n",
       "75%    278645.250000  7.200000e+03         2008.000000     150.000000   \n",
       "max    371527.000000  2.147484e+09         9999.000000   20000.000000   \n",
       "\n",
       "           kilometer  monthOfRegistration  nrOfPictures    postalCode  \n",
       "count  371528.000000        371528.000000      371528.0  371528.00000  \n",
       "mean   125618.688228             5.734445           0.0   50820.66764  \n",
       "std     40112.337051             3.712412           0.0   25799.08247  \n",
       "min      5000.000000             0.000000           0.0    1067.00000  \n",
       "25%    125000.000000             3.000000           0.0   30459.00000  \n",
       "50%    150000.000000             6.000000           0.0   49610.00000  \n",
       "75%    150000.000000             9.000000           0.0   71546.00000  \n",
       "max    150000.000000            12.000000           0.0   99998.00000  "
      ]
     },
     "execution_count": 7,
     "metadata": {},
     "output_type": "execute_result"
    }
   ],
   "source": [
    "df.describe()"
   ]
  },
  {
   "cell_type": "code",
   "execution_count": 8,
   "id": "f3efa2ea-f4ba-44aa-874c-d26a6b68a86a",
   "metadata": {},
   "outputs": [
    {
     "data": {
      "text/html": [
       "<div>\n",
       "<style scoped>\n",
       "    .dataframe tbody tr th:only-of-type {\n",
       "        vertical-align: middle;\n",
       "    }\n",
       "\n",
       "    .dataframe tbody tr th {\n",
       "        vertical-align: top;\n",
       "    }\n",
       "\n",
       "    .dataframe thead th {\n",
       "        text-align: right;\n",
       "    }\n",
       "</style>\n",
       "<table border=\"1\" class=\"dataframe\">\n",
       "  <thead>\n",
       "    <tr style=\"text-align: right;\">\n",
       "      <th></th>\n",
       "      <th>index</th>\n",
       "      <th>price</th>\n",
       "      <th>yearOfRegistration</th>\n",
       "      <th>powerPS</th>\n",
       "      <th>kilometer</th>\n",
       "      <th>monthOfRegistration</th>\n",
       "      <th>nrOfPictures</th>\n",
       "      <th>postalCode</th>\n",
       "    </tr>\n",
       "  </thead>\n",
       "  <tbody>\n",
       "    <tr>\n",
       "      <th>index</th>\n",
       "      <td>1.000000</td>\n",
       "      <td>-0.000696</td>\n",
       "      <td>-0.000060</td>\n",
       "      <td>0.000769</td>\n",
       "      <td>0.003625</td>\n",
       "      <td>0.000914</td>\n",
       "      <td>NaN</td>\n",
       "      <td>0.000038</td>\n",
       "    </tr>\n",
       "    <tr>\n",
       "      <th>price</th>\n",
       "      <td>-0.000696</td>\n",
       "      <td>1.000000</td>\n",
       "      <td>-0.000182</td>\n",
       "      <td>0.006850</td>\n",
       "      <td>-0.000635</td>\n",
       "      <td>-0.002826</td>\n",
       "      <td>NaN</td>\n",
       "      <td>-0.003164</td>\n",
       "    </tr>\n",
       "    <tr>\n",
       "      <th>yearOfRegistration</th>\n",
       "      <td>-0.000060</td>\n",
       "      <td>-0.000182</td>\n",
       "      <td>1.000000</td>\n",
       "      <td>0.000351</td>\n",
       "      <td>-0.055319</td>\n",
       "      <td>-0.011607</td>\n",
       "      <td>NaN</td>\n",
       "      <td>-0.001652</td>\n",
       "    </tr>\n",
       "    <tr>\n",
       "      <th>powerPS</th>\n",
       "      <td>0.000769</td>\n",
       "      <td>0.006850</td>\n",
       "      <td>0.000351</td>\n",
       "      <td>1.000000</td>\n",
       "      <td>-0.010738</td>\n",
       "      <td>0.044358</td>\n",
       "      <td>NaN</td>\n",
       "      <td>0.027113</td>\n",
       "    </tr>\n",
       "    <tr>\n",
       "      <th>kilometer</th>\n",
       "      <td>0.003625</td>\n",
       "      <td>-0.000635</td>\n",
       "      <td>-0.055319</td>\n",
       "      <td>-0.010738</td>\n",
       "      <td>1.000000</td>\n",
       "      <td>0.001838</td>\n",
       "      <td>NaN</td>\n",
       "      <td>-0.026694</td>\n",
       "    </tr>\n",
       "    <tr>\n",
       "      <th>monthOfRegistration</th>\n",
       "      <td>0.000914</td>\n",
       "      <td>-0.002826</td>\n",
       "      <td>-0.011607</td>\n",
       "      <td>0.044358</td>\n",
       "      <td>0.001838</td>\n",
       "      <td>1.000000</td>\n",
       "      <td>NaN</td>\n",
       "      <td>0.014963</td>\n",
       "    </tr>\n",
       "    <tr>\n",
       "      <th>nrOfPictures</th>\n",
       "      <td>NaN</td>\n",
       "      <td>NaN</td>\n",
       "      <td>NaN</td>\n",
       "      <td>NaN</td>\n",
       "      <td>NaN</td>\n",
       "      <td>NaN</td>\n",
       "      <td>NaN</td>\n",
       "      <td>NaN</td>\n",
       "    </tr>\n",
       "    <tr>\n",
       "      <th>postalCode</th>\n",
       "      <td>0.000038</td>\n",
       "      <td>-0.003164</td>\n",
       "      <td>-0.001652</td>\n",
       "      <td>0.027113</td>\n",
       "      <td>-0.026694</td>\n",
       "      <td>0.014963</td>\n",
       "      <td>NaN</td>\n",
       "      <td>1.000000</td>\n",
       "    </tr>\n",
       "  </tbody>\n",
       "</table>\n",
       "</div>"
      ],
      "text/plain": [
       "                        index     price  yearOfRegistration   powerPS  \\\n",
       "index                1.000000 -0.000696           -0.000060  0.000769   \n",
       "price               -0.000696  1.000000           -0.000182  0.006850   \n",
       "yearOfRegistration  -0.000060 -0.000182            1.000000  0.000351   \n",
       "powerPS              0.000769  0.006850            0.000351  1.000000   \n",
       "kilometer            0.003625 -0.000635           -0.055319 -0.010738   \n",
       "monthOfRegistration  0.000914 -0.002826           -0.011607  0.044358   \n",
       "nrOfPictures              NaN       NaN                 NaN       NaN   \n",
       "postalCode           0.000038 -0.003164           -0.001652  0.027113   \n",
       "\n",
       "                     kilometer  monthOfRegistration  nrOfPictures  postalCode  \n",
       "index                 0.003625             0.000914           NaN    0.000038  \n",
       "price                -0.000635            -0.002826           NaN   -0.003164  \n",
       "yearOfRegistration   -0.055319            -0.011607           NaN   -0.001652  \n",
       "powerPS              -0.010738             0.044358           NaN    0.027113  \n",
       "kilometer             1.000000             0.001838           NaN   -0.026694  \n",
       "monthOfRegistration   0.001838             1.000000           NaN    0.014963  \n",
       "nrOfPictures               NaN                  NaN           NaN         NaN  \n",
       "postalCode           -0.026694             0.014963           NaN    1.000000  "
      ]
     },
     "execution_count": 8,
     "metadata": {},
     "output_type": "execute_result"
    }
   ],
   "source": [
    "df.corr(numeric_only=True)"
   ]
  },
  {
   "cell_type": "code",
   "execution_count": 9,
   "id": "bf80b7e3-c679-47c8-a952-db12fff70a7d",
   "metadata": {},
   "outputs": [
    {
     "data": {
      "text/plain": [
       "<Axes: >"
      ]
     },
     "execution_count": 9,
     "metadata": {},
     "output_type": "execute_result"
    },
    {
     "data": {
      "image/png": "[encoded data removed]",
      "text/plain": [
       "<Figure size 640x480 with 2 Axes>"
      ]
     },
     "metadata": {},
     "output_type": "display_data"
    }
   ],
   "source": [
    "sns.heatmap(df.corr(numeric_only=True), annot=True, linewidth=.5, fmt=\".1f\")"
   ]
  },
  {
   "cell_type": "code",
   "execution_count": 10,
   "id": "fd4d37f0-4a8e-4fb9-80ac-6f171ca21aa7",
   "metadata": {},
   "outputs": [
    {
     "data": {
      "image/png": "[encoded data removed]",
      "text/plain": [
       "<Figure size 1800x300 with 6 Axes>"
      ]
     },
     "metadata": {},
     "output_type": "display_data"
    }
   ],
   "source": [
    "# Suponha que 'df' seja o seu DataFrame e que você queira plotar 6 colunas:\n",
    "columns = ['price', 'yearOfRegistration', 'powerPS', 'kilometer', 'monthOfRegistration', 'nrOfPictures']\n",
    "\n",
    "# Cria uma figura com 1 linha e 6 colunas de subplots\n",
    "fig, axes = plt.subplots(1, 6, figsize=(18, 3))\n",
    "\n",
    "# Para cada coluna, plota um boxplot no subplot correspondente\n",
    "for i, col in enumerate(columns):\n",
    "    sns.boxplot(y=df[col], ax=axes[i])\n",
    "    axes[i].set_title(col)  # Define o título com o nome da coluna\n",
    "\n",
    "plt.tight_layout()\n",
    "plt.show()"
   ]
  },
  {
   "cell_type": "markdown",
   "id": "9e62b5b3-d3d5-4c98-addf-3c70f089aa28",
   "metadata": {},
   "source": [
    "### Data Cleaning & Preprocessing"
   ]
  },
  {
   "cell_type": "code",
   "execution_count": 11,
   "id": "baa90342-f905-4ebb-8f4c-e0b490d91123",
   "metadata": {},
   "outputs": [],
   "source": [
    "df['dateCrawled'] = pd.to_datetime(df['dateCrawled'])\n",
    "df['dateCreated'] = pd.to_datetime(df['dateCreated'])\n",
    "df['lastSeen'] = pd.to_datetime(df['lastSeen'])"
   ]
  },
  {
   "cell_type": "code",
   "execution_count": 12,
   "id": "10a3d5f7-28e9-43a9-8dcf-e391d1a68405",
   "metadata": {},
   "outputs": [],
   "source": [
    "df.fillna(0, inplace=True)"
   ]
  },
  {
   "cell_type": "code",
   "execution_count": 13,
   "id": "542e7772-b2f0-4269-9921-ebc403664c5c",
   "metadata": {},
   "outputs": [],
   "source": [
    "Q1 = df['price'].quantile(0.25)\n",
    "Q3 = df['price'].quantile(0.75)\n",
    "IQR = Q3 - Q1\n",
    "\n",
    "# Definir os limites inferior e superior\n",
    "lower_bound = Q1 - 1.5 * IQR\n",
    "upper_bound = Q3 + 1.5 * IQR\n",
    "\n",
    "# Obter os outliers: linhas onde 'price' está abaixo do limite inferior ou acima do limite superior\n",
    "outliers = df[(df['price'] < lower_bound) | (df['price'] > upper_bound)]\n",
    "\n",
    "df = df[~df.index.isin(outliers.index)]"
   ]
  },
  {
   "cell_type": "markdown",
   "id": "69572838-2ac9-40a3-8d1c-1f73563e360a",
   "metadata": {},
   "source": [
    "### Feature Engineering"
   ]
  },
  {
   "cell_type": "code",
   "execution_count": 14,
   "id": "823bfcd7-fe90-4bcf-a1ef-91e056f048ec",
   "metadata": {},
   "outputs": [],
   "source": [
    "current_year = datetime.now().year\n",
    "\n",
    "df['age'] = current_year - df['yearOfRegistration']"
   ]
  },
  {
   "cell_type": "code",
   "execution_count": 15,
   "id": "571c6592-df36-47c6-b898-69273c53aad4",
   "metadata": {},
   "outputs": [
    {
     "data": {
      "text/plain": [
       "0         32\n",
       "2         21\n",
       "3         24\n",
       "4         17\n",
       "5         30\n",
       "          ..\n",
       "371522    20\n",
       "371523    20\n",
       "371524    25\n",
       "371525    29\n",
       "371526    23\n",
       "Name: age, Length: 343420, dtype: int64"
      ]
     },
     "execution_count": 15,
     "metadata": {},
     "output_type": "execute_result"
    }
   ],
   "source": [
    "df['age']"
   ]
  },
  {
   "cell_type": "code",
   "execution_count": 16,
   "id": "660f074c-d6c9-4e4c-8143-5d4adb4f2b72",
   "metadata": {},
   "outputs": [
    {
     "data": {
      "text/plain": [
       "<Axes: ylabel='age'>"
      ]
     },
     "execution_count": 16,
     "metadata": {},
     "output_type": "execute_result"
    },
    {
     "data": {
      "image/png": "[encoded data removed]",
      "text/plain": [
       "<Figure size 640x480 with 1 Axes>"
      ]
     },
     "metadata": {},
     "output_type": "display_data"
    }
   ],
   "source": [
    "sns.boxplot(df['age'], showfliers=False)"
   ]
  },
  {
   "cell_type": "markdown",
   "id": "21ce2721-3583-4f8f-8f9f-faa2b9d5b4de",
   "metadata": {},
   "source": [
    "### Data Splitting"
   ]
  },
  {
   "cell_type": "code",
   "execution_count": 23,
   "id": "9b2533ce-d310-4bb8-b0e6-0752a14ae1e6",
   "metadata": {},
   "outputs": [],
   "source": [
    "from sklearn.model_selection import train_test_split"
   ]
  },
  {
   "cell_type": "code",
   "execution_count": 38,
   "id": "2bdd067d-a64f-4134-b418-50974a453112",
   "metadata": {},
   "outputs": [],
   "source": [
    "feature = ['seller', 'price', 'vehicleType', 'gearbox', 'powerPS', 'model', 'kilometer', 'fuelType', 'brand', 'notRepairedDamage']\n",
    "\n",
    "df_model = df[feature]"
   ]
  },
  {
   "cell_type": "code",
   "execution_count": 42,
   "id": "d63691ae-5b5a-4014-a90c-46a218ca2c43",
   "metadata": {},
   "outputs": [],
   "source": [
    "df_model_encoded = pd.get_dummies(df_model)"
   ]
  },
  {
   "cell_type": "code",
   "execution_count": 44,
   "id": "6f350369-1a3c-4319-aa45-752531dde3d6",
   "metadata": {},
   "outputs": [],
   "source": [
    "X = df_model_encoded.drop('price', axis=1) #Remove the 'price' column (axis=1)\n",
    "y = df_model_encoded['price']"
   ]
  },
  {
   "cell_type": "code",
   "execution_count": 45,
   "id": "c8bab2f1-6e19-4a80-8cf1-c507ea02f4d7",
   "metadata": {},
   "outputs": [],
   "source": [
    "# Split the date into training and test (80% train and 20% test)\n",
    "X_train, X_test, y_train, y_test = train_test_split(X, y, test_size=0.2, random_state=0)"
   ]
  },
  {
   "cell_type": "markdown",
   "id": "6d2829ad-52ff-4618-b2e3-f676e0f6b796",
   "metadata": {},
   "source": [
    "### Baseline Model Building"
   ]
  },
  {
   "cell_type": "markdown",
   "id": "5829673f-91a0-4b2e-9e45-002bf8e0e50d",
   "metadata": {},
   "source": [
    "### Model Evaluation Metrics\n",
    "\n",
    "| Metric  | Description | Interpretation |\n",
    "|---------|------------|----------------|\n",
    "| **MAE (Mean Absolute Error)** | Average absolute difference between actual and predicted values. | Lower is better. Measures how far predictions are from actual values. |\n",
    "| **RMSE (Root Mean Squared Error)** | Similar to MAE but squares errors before averaging, making it more sensitive to large errors. | Lower is better. Penalizes large errors more than MAE. |\n",
    "| **R² Score (Coefficient of Determination)** | Measures how well the model explains the variance in the target variable. | Ranges from 0 to 1 (higher is better). A negative value means the model is worse than a simple average prediction. |\n"
   ]
  },
  {
   "cell_type": "code",
   "execution_count": 50,
   "id": "08734c6c-e649-4dcb-b580-c3213d0e39c9",
   "metadata": {},
   "outputs": [
    {
     "name": "stdout",
     "output_type": "stream",
     "text": [
      "Linear Regression:\n",
      "MAE: 2022.2476155849822\n",
      "RMSE: 2766.377553805449\n",
      "R²: 0.4813928792849237\n"
     ]
    }
   ],
   "source": [
    "from sklearn.linear_model import LinearRegression\n",
    "from sklearn.metrics import mean_absolute_error, mean_squared_error, r2_score\n",
    "\n",
    "# Create and train the model\n",
    "model_lr = LinearRegression()\n",
    "model_lr.fit(X_train, y_train)\n",
    "\n",
    "# Faz previsões no conjunto de teste\n",
    "predict_lr = model_lr.predict(X_test)\n",
    "\n",
    "# Avalia o modelo\n",
    "mae = mean_absolute_error(y_test, predict_lr)\n",
    "rmse = np.sqrt(mean_squared_error(y_test, predict_lr))\n",
    "r2 = r2_score(y_test, predict_lr)\n",
    "\n",
    "print(\"Linear Regression:\")\n",
    "print(\"MAE:\", mae)\n",
    "print(\"RMSE:\", rmse)\n",
    "print(\"R²:\", r2)\n",
    "\n",
    "# MAE (2022.25) → On average, predictions deviate by about 2022 units from actual values.\n",
    "# RMSE (2766.38) → Larger errors have a stronger impact, indicating some significant prediction deviations.\n",
    "# R² (0.481) → The model explains 48.1% of the variance in the data, suggesting room for improvement."
   ]
  },
  {
   "cell_type": "code",
   "execution_count": null,
   "id": "9bff9e69-c98b-4ff2-86cb-27712412f0fb",
   "metadata": {},
   "outputs": [],
   "source": [
    "from sklearn.ensemble import RandomForestRegressor\n",
    "\n",
    "# Cria e treina o modelo Random Forest\n",
    "model_rf = RandomForestRegressor(n_estimators=50, max_depth=10, random_state=42)\n",
    "model_rf.fit(X_train, y_train)\n",
    "\n",
    "# Faz previsões e avalia\n",
    "predicoes_rf = model_rf.predict(X_test)\n",
    "\n",
    "mae_rf = mean_absolute_error(y_test, predict_rf)\n",
    "rmse_rf = np.sqrt(mean_squared_error(y_test, predict_rf))\n",
    "r2_rf = r2_score(y_test, predict_rf)\n",
    "\n",
    "print(\"Random Forest\")\n",
    "print(\"MAE:\", mae_rf)\n",
    "print(\"RMSE:\", rmse_rf)\n",
    "print(\"R²:\", r2_rf)\n"
   ]
  }
 ],
 "metadata": {
  "kernelspec": {
   "display_name": "Python 3 (ipykernel)",
   "language": "python",
   "name": "python3"
  },
  "language_info": {
   "codemirror_mode": {
    "name": "ipython",
    "version": 3
   },
   "file_extension": ".py",
   "mimetype": "text/x-python",
   "name": "python",
   "nbconvert_exporter": "python",
   "pygments_lexer": "ipython3",
   "version": "3.13.1"
  }
 },
 "nbformat": 4,
 "nbformat_minor": 5
}
